{
 "cells": [
  {
   "cell_type": "code",
   "execution_count": 37,
   "metadata": {},
   "outputs": [
    {
     "name": "stdout",
     "output_type": "stream",
     "text": [
      "The number of corruptions is 5000\n",
      "The length of each corruption is 1100\n",
      "Then we move from 500 to 500.75500358325587\n"
     ]
    }
   ],
   "source": [
    "# Author: Renzo Caballero\n",
    "# KAUST: King Abdullah University of Science and Technology\n",
    "# email: renzo.caballerorosas@kaust.edu.sa caballerorenzo@hotmail.com\n",
    "# Website: renzocaballero.org, https://github.com/RenzoCab\n",
    "# September 2023; Last revision: 04/09/2023\n",
    "\n",
    "from scipy.io import loadmat\n",
    "\n",
    "# Load the MATLAB file\n",
    "data = loadmat('add_dudw_data.mat');\n",
    "\n",
    "# Access MATLAB variables as Python dictionaries\n",
    "array_corruptions = data['all_data']\n",
    "array_corruptions = array_corruptions[0:5000];\n",
    "print('The number of corruptions is',len(array_corruptions))\n",
    "print('The length of each corruption is',len(array_corruptions[0]))\n",
    "\n",
    "# x should be between 0 and 1100 (here we just choose 500 as an example):\n",
    "x = 500;\n",
    "# c (corruption) should be between 0 and 4999 (here we just choose 600 as an example):\n",
    "c = array_corruptions[600];\n",
    "# u (the control) should be either 0, 1, or -1 (here we just choose 1):\n",
    "u = 1;\n",
    "x_next = x + u*c[x];\n",
    "print('Then we move from',x,'to',x_next)"
   ]
  }
 ],
 "metadata": {
  "kernelspec": {
   "display_name": "Python 3",
   "language": "python",
   "name": "python3"
  },
  "language_info": {
   "codemirror_mode": {
    "name": "ipython",
    "version": 3
   },
   "file_extension": ".py",
   "mimetype": "text/x-python",
   "name": "python",
   "nbconvert_exporter": "python",
   "pygments_lexer": "ipython3",
   "version": "3.8.5"
  }
 },
 "nbformat": 4,
 "nbformat_minor": 4
}
