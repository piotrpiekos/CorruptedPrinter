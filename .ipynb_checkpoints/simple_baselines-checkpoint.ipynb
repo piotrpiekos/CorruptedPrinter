{
 "cells": [
  {
   "cell_type": "markdown",
   "metadata": {},
   "source": [
    "This notebook calculates simple baselines for comparison as well as lower bound and upper bound on the performance.\n",
    "\n",
    "Lower bound is calculated by measuring the metric on the naively printed elemented (so just greedy going in the direction of expected next state).\n",
    "\n",
    "Upper bound is calculated by using oracle agent that has access to true corruption of the printer. We can't do better than this, because we have access to the true model"
   ]
  },
  {
   "cell_type": "markdown",
   "metadata": {},
   "source": [
    "## Simulator"
   ]
  },
  {
   "cell_type": "code",
   "execution_count": 28,
   "metadata": {},
   "outputs": [],
   "source": [
    "    \n",
    "from scipy.io import loadmat\n",
    "# Load the MATLAB file\n",
    "corruptions = loadmat('scripts/Corruption_Simulation/add_dudw_data.mat');\n",
    "\n",
    "array_corruptions = corruptions['all_data']\n",
    "array_corruptions = array_corruptions[0:5000]\n",
    "def get_next(x, corr_id, control_x):\n",
    "    return x + control_x*array_corruptions[corr_id.astype(int)-1, x.round().astype(int)-1]\n",
    "\n",
    "def get_next_from_row(data_row, controls=None):\n",
    "    if controls is None:\n",
    "        controls = (data_row[6], data_row[11])\n",
    "    next_x = get_next(data_row[5], data_row[1], controls[0])\n",
    "    next_y = get_next(data_row[10], data_row[2], controls[1])\n",
    "    return next_x, next_y\n",
    "\n",
    "def get_next_2d(state, corr_ids, controls):\n",
    "    return (get_next(state[0], corr_ids[0], controls[0]), get_next(state[1], corr_ids[1], controls[1]))"
   ]
  },
  {
   "cell_type": "code",
   "execution_count": 29,
   "metadata": {},
   "outputs": [
    {
     "data": {
      "text/plain": [
       "(560.0, 482.52048987995823)"
      ]
     },
     "execution_count": 29,
     "metadata": {},
     "output_type": "execute_result"
    }
   ],
   "source": [
    "data_row = data[0]\n",
    "get_next_2d((data_row[5], data_row[10]), (data_row[1], data_row[2]), (data_row[6], data_row[11]))"
   ]
  },
  {
   "cell_type": "code",
   "execution_count": 27,
   "metadata": {},
   "outputs": [
    {
     "data": {
      "text/plain": [
       "(560.0, 482.52048987995823)"
      ]
     },
     "execution_count": 27,
     "metadata": {},
     "output_type": "execute_result"
    }
   ],
   "source": [
    "get_next_from_row(data[0])"
   ]
  },
  {
   "cell_type": "code",
   "execution_count": 41,
   "metadata": {},
   "outputs": [],
   "source": [
    "def find_the_best_next(state, corr_ids, next_optimal):\n",
    "    from itertools import product\n",
    "    \n",
    "    \n",
    "    cur_min=1999999999\n",
    "    \n",
    "    for control in product(range(-3, 4), range(-3, 4)):\n",
    "        next_state = get_next_2d(state, corr_ids, control)\n",
    "            \n",
    "        dist = (next_optimal[0]-next_state[0])**2+(next_optimal[1]-next_state[1])**2\n",
    "        if dist<cur_min:\n",
    "            cur_min=dist\n",
    "            opt_control = control\n",
    "            chosen_next_state = next_state\n",
    "        #print(dist, control)\n",
    "            \n",
    "    return opt_control, cur_min, chosen_next_state\n",
    "    \n",
    "        "
   ]
  },
  {
   "cell_type": "code",
   "execution_count": 35,
   "metadata": {},
   "outputs": [
    {
     "name": "stdout",
     "output_type": "stream",
     "text": [
      "41.332308888202704 (-3, -3)\n",
      "25.150572277852714 (-3, -2)\n",
      "13.592614617613524 (-3, -1)\n",
      "6.658435907485145 (-3, 0)\n",
      "4.348036147467574 (-3, 1)\n",
      "6.661415337560811 (-3, 2)\n",
      "13.598573477764855 (-3, 3)\n",
      "38.91673338404437 (-2, -3)\n",
      "22.734996773694373 (-2, -2)\n",
      "11.177039113455185 (-2, -1)\n",
      "4.242860403326805 (-2, 0)\n",
      "1.9324606433092346 (-2, 1)\n",
      "4.2458398334024725 (-2, 2)\n",
      "11.182997973606517 (-2, 3)\n",
      "37.467388081549146 (-1, -3)\n",
      "21.28565147119915 (-1, -2)\n",
      "9.72769381095996 (-1, -1)\n",
      "2.7935151008315806 (-1, 0)\n",
      "0.4831153408140097 (-1, 1)\n",
      "2.796494530907247 (-1, 2)\n",
      "9.733652671111292 (-1, 3)\n",
      "36.984272980717506 (0, -3)\n",
      "20.802536370367513 (0, -2)\n",
      "9.244578710128325 (0, -1)\n",
      "2.3103999999999445 (0, 0)\n",
      "2.3998237349698535e-07 (0, 1)\n",
      "2.313379430075611 (0, 2)\n",
      "9.250537570279656 (0, 3)\n",
      "37.467388081549146 (1, -3)\n",
      "21.28565147119915 (1, -2)\n",
      "9.72769381095996 (1, -1)\n",
      "2.7935151008315806 (1, 0)\n",
      "0.4831153408140097 (1, 1)\n",
      "2.796494530907247 (1, 2)\n",
      "9.733652671111292 (1, 3)\n",
      "38.91673338404437 (2, -3)\n",
      "22.734996773694373 (2, -2)\n",
      "11.177039113455185 (2, -1)\n",
      "4.242860403326805 (2, 0)\n",
      "1.9324606433092346 (2, 1)\n",
      "4.2458398334024725 (2, 2)\n",
      "11.182997973606517 (2, 3)\n",
      "41.332308888202704 (3, -3)\n",
      "25.150572277852714 (3, -2)\n",
      "13.592614617613524 (3, -1)\n",
      "6.658435907485145 (3, 0)\n",
      "4.348036147467574 (3, 1)\n",
      "6.661415337560811 (3, 2)\n",
      "13.598573477764855 (3, 3)\n"
     ]
    },
    {
     "data": {
      "text/plain": [
       "((0, 1), 2.3998237349698535e-07, (560.0, 482.52048987995823))"
      ]
     },
     "execution_count": 35,
     "metadata": {},
     "output_type": "execute_result"
    }
   ],
   "source": [
    "find_the_best_next((data_row[5], data_row[10]), (data_row[1], data_row[2]), (560, 482.52))"
   ]
  },
  {
   "cell_type": "code",
   "execution_count": 30,
   "metadata": {},
   "outputs": [
    {
     "data": {
      "text/plain": [
       "range(-3, 4)"
      ]
     },
     "execution_count": 30,
     "metadata": {},
     "output_type": "execute_result"
    }
   ],
   "source": [
    "from itertools import product\n",
    "range(-3,4)"
   ]
  },
  {
   "cell_type": "code",
   "execution_count": null,
   "metadata": {},
   "outputs": [],
   "source": [
    "prod"
   ]
  },
  {
   "cell_type": "code",
   "execution_count": 6,
   "metadata": {},
   "outputs": [],
   "source": [
    "from numpy import genfromtxt\n",
    "data = genfromtxt('data/real_data/validation/ext_1/100638_1.csv', delimiter=',')"
   ]
  },
  {
   "cell_type": "markdown",
   "metadata": {},
   "source": [
    "Columns\n",
    "\n",
    "0. Label of the 3D Body (original name from the original data).\n",
    "1. Corruption ID1 - Label of the fault on the x-axis (1, 2, 3, etc., each number corresponds to a different fault).\n",
    "2. Corruption ID2 Label of the fault on the y-axis (1, 2, 3, etc., each number corresponds to a different fault).\n",
    "3. Trajectory ID - Number of the layer. For example, if a body is composed by 100 layers, we only take 10 of them (1,11,21,...,91), and we label THAT laters (1,2,...,10).\n",
    "4. Ideal x_i - if the trajectory would follow optimal trajectory, it would be here.\n",
    "5. Achieved X_i Broken-trajectory x_i or in other words - where are we now.\n",
    "6. Control on x (it can take the values -1, 0, or 1).\n",
    "7. Ideal x_{i+1} (which is just [x_i + the control on x]).\n",
    "8. Achieved X_{i+1}Broken-trajectory x_{i+1}.\n",
    "9. Ideal y_i.\n",
    "10. Achieved Y_i - Broken-trajectory y_i.\n",
    "11. Control on y (it can take the values -1, 0, or 1).\n",
    "12. Ideal y_{i+1} (which is just [y_i + the control on y]).\n",
    "13. Achieved Y_{i+1} - Broken-trajectory y_{i+1}.\n"
   ]
  },
  {
   "cell_type": "code",
   "execution_count": 10,
   "metadata": {},
   "outputs": [
    {
     "name": "stdout",
     "output_type": "stream",
     "text": [
      "x_i 488.616699495866\n"
     ]
    }
   ],
   "source": [
    "print('x_i',data[5,10])"
   ]
  },
  {
   "cell_type": "code",
   "execution_count": 22,
   "metadata": {},
   "outputs": [
    {
     "name": "stdout",
     "output_type": "stream",
     "text": [
      "x_{i+1}, y_{i+1} according to the simulator:  (560.0, 482.52048987995823)\n"
     ]
    }
   ],
   "source": [
    "print('x_{i+1}, y_{i+1} according to the simulator: ', get_next_from_row(data[0]))"
   ]
  },
  {
   "cell_type": "code",
   "execution_count": 8,
   "metadata": {},
   "outputs": [
    {
     "name": "stdout",
     "output_type": "stream",
     "text": [
      "x_{i+1}, y_{i+1} according to the data:  [560.         482.52048988]\n"
     ]
    }
   ],
   "source": [
    "print('x_{i+1}, y_{i+1} according to the data: ', data[0, [8, 13]])"
   ]
  },
  {
   "cell_type": "code",
   "execution_count": 24,
   "metadata": {},
   "outputs": [
    {
     "name": "stdout",
     "output_type": "stream",
     "text": [
      "x_{i+1}, y_{i+1} according to the simulator:  (560.6950648177196, 481.0)\n"
     ]
    }
   ],
   "source": [
    "print('x_{i+1}, y_{i+1} according to the simulator: ', get_next_from_row(data[0],(1,0)))"
   ]
  },
  {
   "cell_type": "markdown",
   "metadata": {},
   "source": [
    "-------"
   ]
  },
  {
   "cell_type": "code",
   "execution_count": null,
   "metadata": {},
   "outputs": [],
   "source": [
    "for i in range(cur_trajectory.shape[0]):\n",
    "    "
   ]
  },
  {
   "cell_type": "code",
   "execution_count": 10,
   "metadata": {},
   "outputs": [
    {
     "data": {
      "text/plain": [
       "array([1., 1., 1., ..., 6., 6., 6.])"
      ]
     },
     "execution_count": 10,
     "metadata": {},
     "output_type": "execute_result"
    }
   ],
   "source": [
    "data[:, 3]"
   ]
  },
  {
   "cell_type": "code",
   "execution_count": 11,
   "metadata": {
    "scrolled": true
   },
   "outputs": [
    {
     "data": {
      "text/plain": [
       "(array([1., 2., 3., 4., 5., 6.]), array([314, 317, 295, 320, 317, 314]))"
      ]
     },
     "execution_count": 11,
     "metadata": {},
     "output_type": "execute_result"
    }
   ],
   "source": [
    "import numpy as np\n",
    "np.unique(data[:, 3], return_counts=True)"
   ]
  },
  {
   "cell_type": "code",
   "execution_count": 12,
   "metadata": {},
   "outputs": [],
   "source": [
    "TRAJ_ID = 3"
   ]
  },
  {
   "cell_type": "code",
   "execution_count": 16,
   "metadata": {},
   "outputs": [],
   "source": [
    "cur_trajectory = data[data[:, 3] == TRAJ_ID]"
   ]
  },
  {
   "cell_type": "code",
   "execution_count": 42,
   "metadata": {},
   "outputs": [
    {
     "name": "stdout",
     "output_type": "stream",
     "text": [
      "58447.07918739377\n"
     ]
    }
   ],
   "source": [
    "cur_point = (cur_trajectory[0, 5], cur_trajectory[0, 10])\n",
    "sum_distances = 0\n",
    "for i in range(cur_trajectory.shape[0]):\n",
    "    corr_id=(cur_trajectory[i, 1], cur_trajectory[i, 2])\n",
    "    optimal_next=(cur_trajectory[i, 7], cur_trajectory[i, 12])\n",
    "    _, dist, cur_point=find_the_best_next(cur_point, corr_id, optimal_next)\n",
    "    sum_distances+=dist\n",
    "    \n",
    "print(sum_distances)"
   ]
  },
  {
   "cell_type": "code",
   "execution_count": 43,
   "metadata": {},
   "outputs": [
    {
     "data": {
      "text/plain": [
       "1006075.4705415417"
      ]
     },
     "execution_count": 43,
     "metadata": {},
     "output_type": "execute_result"
    }
   ],
   "source": [
    "((cur_trajectory[:,7]-cur_trajectory[:,8])**2+(cur_trajectory[:,12]-cur_trajectory[:,13])**2).sum()"
   ]
  },
  {
   "cell_type": "code",
   "execution_count": 44,
   "metadata": {},
   "outputs": [
    {
     "data": {
      "text/plain": [
       "array([ 1.00638000e+05,  1.90100000e+03,  4.83100000e+03,  3.00000000e+00,\n",
       "        5.16000000e+02,  5.15616261e+02,  0.00000000e+00,  5.16000000e+02,\n",
       "        5.15616261e+02,  6.10000000e+02,  6.10352619e+02, -1.00000000e+00,\n",
       "        5.16000000e+02,  6.08889959e+02])"
      ]
     },
     "execution_count": 44,
     "metadata": {},
     "output_type": "execute_result"
    }
   ],
   "source": [
    "cur_trajectory[-1]"
   ]
  },
  {
   "cell_type": "code",
   "execution_count": null,
   "metadata": {},
   "outputs": [],
   "source": []
  },
  {
   "cell_type": "code",
   "execution_count": 29,
   "metadata": {},
   "outputs": [
    {
     "data": {
      "text/plain": [
       "array([ 0.        ,  0.        ,  0.        ,  0.        ,  0.09298547,\n",
       "        0.09298547,  0.09298547,  0.39230173,  0.39230173,  0.39230173,\n",
       "        0.39230173,  0.93099076,  0.93099076,  0.93099076,  0.93099076,\n",
       "        1.74556554,  1.74556554,  1.74556554,  1.74556554,  2.87617623,\n",
       "        2.87617623,  2.87617623,  4.36677262,  4.36677262,  4.36677262,\n",
       "        4.36677262,  4.36677262,  6.26526161,  6.26526161,  6.26526161,\n",
       "        6.26526161,  6.26526161,  6.26526161,  8.62365877,  8.62365877,\n",
       "        8.62365877,  8.62365877,  8.62365877, 11.49823258, 11.49823258,\n",
       "       11.49823258, 11.49823258, 11.49823258, 11.49823258, 14.94928176,\n",
       "       14.94928176, 14.94928176, 14.94928176, 14.94928176, 19.02702602,\n",
       "       19.02702602, 19.02702602, 19.02702602, 19.02702602, 19.02702602,\n",
       "       23.33787404, 23.33787404, 23.33787404, 23.33787404, 23.33787404,\n",
       "       27.81104821, 27.81104821, 27.81104821, 27.81104821, 27.81104821,\n",
       "       27.81104821, 32.38321641, 32.38321641, 32.38321641, 32.38321641,\n",
       "       32.38321641, 32.38321641, 36.99724045, 36.99724045, 36.99724045,\n",
       "       36.99724045, 36.99724045, 41.60200117, 41.60200117, 41.60200117,\n",
       "       41.60200117, 41.60200117, 41.60200117, 46.15008511, 46.15008511,\n",
       "       46.15008511, 46.15008511, 46.15008511, 50.60140343, 50.60140343,\n",
       "       50.60140343, 50.60140343, 50.60140343, 50.60140343, 54.92122811,\n",
       "       54.92122811, 54.92122811, 54.92122811, 54.92122811, 59.07994164,\n",
       "       59.07994164, 59.07994164, 59.07994164, 59.07994164, 59.07994164,\n",
       "       63.05277815, 63.05277815, 63.05277815, 63.05277815, 63.05277815,\n",
       "       63.05277815, 66.8195575 , 66.8195575 , 66.8195575 , 66.8195575 ,\n",
       "       66.8195575 , 70.36441425, 70.36441425, 70.36441425, 70.36441425,\n",
       "       70.36441425, 70.36441425, 73.67552299, 73.67552299, 73.67552299,\n",
       "       73.67552299, 73.67552299, 76.7448218 , 76.7448218 , 76.7448218 ,\n",
       "       76.7448218 , 76.7448218 , 76.7448218 , 79.56773561, 79.56773561,\n",
       "       79.56773561, 79.56773561, 77.03358125, 74.25639394, 71.23777763,\n",
       "       67.98254296, 64.4989823 , 60.79914625, 56.89911987, 52.81929711,\n",
       "       48.5846517 , 44.22500278, 39.77527358, 35.27574152, 30.77395843,\n",
       "       26.32121877, 21.97482833, 17.79827953, 13.86246314, 10.54760188,\n",
       "        7.8031364 ,  5.56890733,  3.78880465,  2.41097696,  1.38768708,\n",
       "        1.38768708,  1.38768708,  2.35414156,  3.64447952,  5.30291135,\n",
       "        7.37759655,  9.92079503, 12.98901114, 16.64275096, 20.93172871,\n",
       "       25.44245637, 30.10432478, 34.85424036, 39.63531438, 44.39668857,\n",
       "       49.09115543, 53.67890678, 58.12550512, 62.40163303, 66.48283398,\n",
       "       70.3492461 , 73.98533081, 73.98533081, 73.98533081, 73.98533081,\n",
       "       73.98533081, 70.66718778, 70.66718778, 70.66718778, 70.66718778,\n",
       "       70.66718778, 70.66718778, 67.11461412, 67.11461412, 67.11461412,\n",
       "       67.11461412, 67.11461412, 63.3394069 , 63.3394069 , 63.3394069 ,\n",
       "       63.3394069 , 63.3394069 , 63.3394069 , 59.35740393, 59.35740393,\n",
       "       59.35740393, 59.35740393, 59.35740393, 59.35740393, 55.18875841,\n",
       "       55.18875841, 55.18875841, 55.18875841, 55.18875841, 50.85821004,\n",
       "       50.85821004, 50.85821004, 50.85821004, 50.85821004, 50.85821004,\n",
       "       46.39535094, 46.39535094, 46.39535094, 46.39535094, 46.39535094,\n",
       "       41.83488458, 41.83488458, 41.83488458, 41.83488458, 41.83488458,\n",
       "       41.83488458, 37.21687604, 37.21687604, 37.21687604, 37.21687604,\n",
       "       37.21687604, 32.58872136, 32.58872136, 32.58872136, 32.58872136,\n",
       "       32.58872136, 32.58872136, 28.00151765, 28.00151765, 28.00151765,\n",
       "       28.00151765, 28.00151765, 23.51238197, 23.51238197, 23.51238197,\n",
       "       23.51238197, 23.51238197, 23.51238197, 19.18462628, 19.18462628,\n",
       "       19.18462628, 19.18462628, 19.18462628, 19.18462628, 15.08901393,\n",
       "       15.08901393, 15.08901393, 15.08901393, 15.08901393, 11.6208193 ,\n",
       "       11.6208193 , 11.6208193 , 11.6208193 , 11.6208193 , 11.6208193 ,\n",
       "        8.72986543,  8.72986543,  8.72986543,  8.72986543,  8.72986543,\n",
       "        8.72986543,  6.35583606,  6.35583606,  6.35583606,  6.35583606,\n",
       "        6.35583606,  4.44244276,  4.44244276,  4.44244276,  4.44244276,\n",
       "        4.44244276,  4.44244276,  2.9376493 ,  2.9376493 ,  2.9376493 ,\n",
       "        2.9376493 ,  2.9376493 ,  1.79352739,  1.79352739,  1.79352739,\n",
       "        1.79352739,  1.79352739,  1.79352739,  0.96610521,  0.96610521,\n",
       "        0.96610521,  0.96610521,  0.96610521,  0.41520991,  0.41520991,\n",
       "        0.41520991,  0.41520991,  0.41520991,  0.41520991,  0.10430515,\n",
       "        0.10430515,  0.10430515,  0.10430515,  0.10430515])"
      ]
     },
     "execution_count": 29,
     "metadata": {},
     "output_type": "execute_result"
    }
   ],
   "source": [
    "(cur_trajectory[:, 0] - cur_trajectory[:, 2])**2"
   ]
  },
  {
   "cell_type": "code",
   "execution_count": 27,
   "metadata": {},
   "outputs": [
    {
     "data": {
      "text/plain": [
       "array([560.        , 481.        , 560.        , 481.        ,\n",
       "         0.        ,   1.        , 560.        , 560.        ,\n",
       "       560.        , 482.52048988])"
      ]
     },
     "execution_count": 27,
     "metadata": {},
     "output_type": "execute_result"
    }
   ],
   "source": [
    "cur_trajectory[0]"
   ]
  },
  {
   "cell_type": "code",
   "execution_count": 28,
   "metadata": {},
   "outputs": [
    {
     "data": {
      "text/plain": [
       "array([560.        , 482.        , 560.        , 482.52048988,\n",
       "         0.        ,   1.        , 560.        , 560.        ,\n",
       "       560.        , 484.04391305])"
      ]
     },
     "execution_count": 28,
     "metadata": {},
     "output_type": "execute_result"
    }
   ],
   "source": [
    "cur_trajectory[1]"
   ]
  },
  {
   "cell_type": "code",
   "execution_count": 21,
   "metadata": {},
   "outputs": [
    {
     "data": {
      "text/plain": [
       "array([560.        , 560.        , 560.        , ..., 559.67703693,\n",
       "       559.67703693, 559.67703693])"
      ]
     },
     "execution_count": 21,
     "metadata": {},
     "output_type": "execute_result"
    }
   ],
   "source": [
    "data[:, 8]"
   ]
  },
  {
   "cell_type": "code",
   "execution_count": 8,
   "metadata": {},
   "outputs": [
    {
     "data": {
      "text/plain": [
       "array([1.00638000e+05, 1.90100000e+03, 4.83100000e+03, 1.00000000e+00,\n",
       "       5.60000000e+02, 5.60000000e+02, 1.00000000e+00, 5.61000000e+02,\n",
       "       5.60695065e+02, 4.84000000e+02, 4.85568761e+02, 1.00000000e+00,\n",
       "       5.61000000e+02, 4.87093526e+02])"
      ]
     },
     "execution_count": 8,
     "metadata": {},
     "output_type": "execute_result"
    }
   ],
   "source": [
    "my_data[3]"
   ]
  },
  {
   "cell_type": "code",
   "execution_count": null,
   "metadata": {},
   "outputs": [],
   "source": []
  },
  {
   "cell_type": "code",
   "execution_count": 4,
   "metadata": {},
   "outputs": [
    {
     "data": {
      "text/plain": [
       "array([[1.00638000e+05, 1.90100000e+03, 4.83100000e+03, 1.00000000e+00,\n",
       "        5.60000000e+02, 5.60000000e+02, 0.00000000e+00, 5.60000000e+02,\n",
       "        5.60000000e+02, 4.81000000e+02, 4.81000000e+02, 1.00000000e+00,\n",
       "        5.60000000e+02, 4.82520490e+02],\n",
       "       [1.00638000e+05, 1.90100000e+03, 4.83100000e+03, 1.00000000e+00,\n",
       "        5.60000000e+02, 5.60000000e+02, 0.00000000e+00, 5.60000000e+02,\n",
       "        5.60000000e+02, 4.82000000e+02, 4.82520490e+02, 1.00000000e+00,\n",
       "        5.60000000e+02, 4.84043913e+02],\n",
       "       [1.00638000e+05, 1.90100000e+03, 4.83100000e+03, 1.00000000e+00,\n",
       "        5.60000000e+02, 5.60000000e+02, 0.00000000e+00, 5.60000000e+02,\n",
       "        5.60000000e+02, 4.83000000e+02, 4.84043913e+02, 1.00000000e+00,\n",
       "        5.60000000e+02, 4.85568761e+02],\n",
       "       [1.00638000e+05, 1.90100000e+03, 4.83100000e+03, 1.00000000e+00,\n",
       "        5.60000000e+02, 5.60000000e+02, 1.00000000e+00, 5.61000000e+02,\n",
       "        5.60695065e+02, 4.84000000e+02, 4.85568761e+02, 1.00000000e+00,\n",
       "        5.61000000e+02, 4.87093526e+02],\n",
       "       [1.00638000e+05, 1.90100000e+03, 4.83100000e+03, 1.00000000e+00,\n",
       "        5.61000000e+02, 5.60695065e+02, 0.00000000e+00, 5.61000000e+02,\n",
       "        5.60695065e+02, 4.85000000e+02, 4.87093526e+02, 1.00000000e+00,\n",
       "        5.61000000e+02, 4.88616699e+02],\n",
       "       [1.00638000e+05, 1.90100000e+03, 4.83100000e+03, 1.00000000e+00,\n",
       "        5.61000000e+02, 5.60695065e+02, 0.00000000e+00, 5.61000000e+02,\n",
       "        5.60695065e+02, 4.86000000e+02, 4.88616699e+02, 1.00000000e+00,\n",
       "        5.61000000e+02, 4.90136779e+02],\n",
       "       [1.00638000e+05, 1.90100000e+03, 4.83100000e+03, 1.00000000e+00,\n",
       "        5.61000000e+02, 5.60695065e+02, 1.00000000e+00, 5.62000000e+02,\n",
       "        5.61373660e+02, 4.87000000e+02, 4.90136779e+02, 1.00000000e+00,\n",
       "        5.62000000e+02, 4.91652264e+02],\n",
       "       [1.00638000e+05, 1.90100000e+03, 4.83100000e+03, 1.00000000e+00,\n",
       "        5.62000000e+02, 5.61373660e+02, 0.00000000e+00, 5.62000000e+02,\n",
       "        5.61373660e+02, 4.88000000e+02, 4.91652264e+02, 1.00000000e+00,\n",
       "        5.62000000e+02, 4.93161660e+02],\n",
       "       [1.00638000e+05, 1.90100000e+03, 4.83100000e+03, 1.00000000e+00,\n",
       "        5.62000000e+02, 5.61373660e+02, 0.00000000e+00, 5.62000000e+02,\n",
       "        5.61373660e+02, 4.89000000e+02, 4.93161660e+02, 1.00000000e+00,\n",
       "        5.62000000e+02, 4.94663482e+02],\n",
       "       [1.00638000e+05, 1.90100000e+03, 4.83100000e+03, 1.00000000e+00,\n",
       "        5.62000000e+02, 5.61373660e+02, 0.00000000e+00, 5.62000000e+02,\n",
       "        5.61373660e+02, 4.90000000e+02, 4.94663482e+02, 1.00000000e+00,\n",
       "        5.62000000e+02, 4.96156251e+02]])"
      ]
     },
     "execution_count": 4,
     "metadata": {},
     "output_type": "execute_result"
    }
   ],
   "source": [
    "my_data[:, [4,5,6]]"
   ]
  },
  {
   "cell_type": "code",
   "execution_count": 3,
   "metadata": {},
   "outputs": [
    {
     "data": {
      "text/plain": [
       "(1877, 14)"
      ]
     },
     "execution_count": 3,
     "metadata": {},
     "output_type": "execute_result"
    }
   ],
   "source": [
    "my_data.shape"
   ]
  },
  {
   "cell_type": "code",
   "execution_count": 2,
   "metadata": {},
   "outputs": [
    {
     "data": {
      "text/plain": [
       "(42000000, 14)"
      ]
     },
     "execution_count": 2,
     "metadata": {},
     "output_type": "execute_result"
    }
   ],
   "source": [
    "my_data.shape"
   ]
  },
  {
   "cell_type": "code",
   "execution_count": 3,
   "metadata": {},
   "outputs": [
    {
     "data": {
      "text/plain": [
       "array([[  1.        ,   1.        ,   1.        ,   1.        ,\n",
       "        134.        , 134.        ,   1.        , 135.        ,\n",
       "        134.74331118, 352.        , 352.        ,  -1.        ,\n",
       "        135.        , 350.73059368],\n",
       "       [  1.        ,   1.        ,   1.        ,   2.        ,\n",
       "        135.        , 134.74331118,   0.        , 135.        ,\n",
       "        134.74331118, 351.        , 350.73059368,  -1.        ,\n",
       "        135.        , 349.4867406 ],\n",
       "       [  1.        ,   1.        ,   1.        ,   3.        ,\n",
       "        135.        , 134.74331118,   0.        , 135.        ,\n",
       "        134.74331118, 350.        , 349.4867406 ,  -1.        ,\n",
       "        135.        , 348.26969003],\n",
       "       [  1.        ,   1.        ,   1.        ,   4.        ,\n",
       "        135.        , 134.74331118,   0.        , 135.        ,\n",
       "        134.74331118, 349.        , 348.26969003,  -1.        ,\n",
       "        135.        , 347.08066523],\n",
       "       [  1.        ,   1.        ,   1.        ,   5.        ,\n",
       "        135.        , 134.74331118,   0.        , 135.        ,\n",
       "        134.74331118, 348.        , 347.08066523,  -1.        ,\n",
       "        135.        , 345.92086215],\n",
       "       [  1.        ,   1.        ,   1.        ,   6.        ,\n",
       "        135.        , 134.74331118,   0.        , 135.        ,\n",
       "        134.74331118, 347.        , 345.92086215,  -1.        ,\n",
       "        135.        , 344.79144816],\n",
       "       [  1.        ,   1.        ,   1.        ,   7.        ,\n",
       "        135.        , 134.74331118,   0.        , 135.        ,\n",
       "        134.74331118, 346.        , 344.79144816,  -1.        ,\n",
       "        135.        , 343.69356082],\n",
       "       [  1.        ,   1.        ,   1.        ,   8.        ,\n",
       "        135.        , 134.74331118,   1.        , 136.        ,\n",
       "        135.49603952, 345.        , 343.69356082,  -1.        ,\n",
       "        136.        , 342.62830667],\n",
       "       [  1.        ,   1.        ,   1.        ,   9.        ,\n",
       "        136.        , 135.49603952,   0.        , 136.        ,\n",
       "        135.49603952, 344.        , 342.62830667,  -1.        ,\n",
       "        136.        , 341.59676005],\n",
       "       [  1.        ,   1.        ,   1.        ,  10.        ,\n",
       "        136.        , 135.49603952,   0.        , 136.        ,\n",
       "        135.49603952, 343.        , 341.59676005,  -1.        ,\n",
       "        136.        , 340.5998819 ]])"
      ]
     },
     "execution_count": 3,
     "metadata": {},
     "output_type": "execute_result"
    }
   ],
   "source": [
    "my_data[:10]"
   ]
  },
  {
   "cell_type": "code",
   "execution_count": 7,
   "metadata": {},
   "outputs": [],
   "source": [
    "import numpy as np"
   ]
  },
  {
   "cell_type": "code",
   "execution_count": 11,
   "metadata": {},
   "outputs": [
    {
     "data": {
      "text/plain": [
       "array([ 0.,  9., 10., 11., 12., 13., 14., 15.])"
      ]
     },
     "execution_count": 11,
     "metadata": {},
     "output_type": "execute_result"
    }
   ],
   "source": [
    "np.unique(my_data[:,0]*8 + my_data[:, 1])"
   ]
  },
  {
   "cell_type": "code",
   "execution_count": 8,
   "metadata": {
    "scrolled": true
   },
   "outputs": [
    {
     "data": {
      "text/plain": [
       "array([0., 1.])"
      ]
     },
     "execution_count": 8,
     "metadata": {},
     "output_type": "execute_result"
    }
   ],
   "source": [
    "np.unique(my_data[:, 0])"
   ]
  },
  {
   "cell_type": "code",
   "execution_count": 9,
   "metadata": {},
   "outputs": [
    {
     "data": {
      "text/plain": [
       "array([0., 1., 2., 3., 4., 5., 6., 7.])"
      ]
     },
     "execution_count": 9,
     "metadata": {},
     "output_type": "execute_result"
    }
   ],
   "source": [
    "np.unique(my_data[:, 1])"
   ]
  },
  {
   "cell_type": "code",
   "execution_count": null,
   "metadata": {},
   "outputs": [],
   "source": []
  },
  {
   "cell_type": "code",
   "execution_count": null,
   "metadata": {},
   "outputs": [],
   "source": []
  }
 ],
 "metadata": {
  "kernelspec": {
   "display_name": "Python 3",
   "language": "python",
   "name": "python3"
  },
  "language_info": {
   "codemirror_mode": {
    "name": "ipython",
    "version": 3
   },
   "file_extension": ".py",
   "mimetype": "text/x-python",
   "name": "python",
   "nbconvert_exporter": "python",
   "pygments_lexer": "ipython3",
   "version": "3.8.5"
  }
 },
 "nbformat": 4,
 "nbformat_minor": 5
}
